{
 "cells": [
  {
   "cell_type": "code",
   "execution_count": 3,
   "metadata": {},
   "outputs": [],
   "source": [
    "import matplotlib.pyplot as plt\n",
    "import numpy as np\n",
    "import timeit"
   ]
  },
  {
   "cell_type": "markdown",
   "metadata": {},
   "source": [
    "1\\. Write a function that converts number representation, bin<->dec<->hex. (Clearly using the corresponding python built-in functions is not fair..)"
   ]
  },
  {
   "cell_type": "code",
   "execution_count": 56,
   "metadata": {},
   "outputs": [],
   "source": [
    "def bin_dec(number):\n",
    "    n = list(map(int, str(number)))\n",
    "    n.reverse()\n",
    "    dec = 0\n",
    "    for i in range (0, len(n)):\n",
    "        dec += n[i] * 2**i\n",
    "    return dec\n",
    "\n",
    "def dec_bin(number):\n",
    "    bin_n = []\n",
    "    q = int(number)\n",
    "    r = 0\n",
    "    while q > 0 :\n",
    "        r = q % 2\n",
    "        q = q // 2\n",
    "        bin_n.append(r)\n",
    "    bin_n.reverse()\n",
    "    n_bin = \"\".join(map(str, bin_n))\n",
    "    return n_bin\n",
    "\n",
    "def bin_hex(number):\n",
    "    bin_to_hex_map = {\n",
    "        '0000': '0', '0001': '1', '0010': '2', '0011': '3',\n",
    "        '0100': '4', '0101': '5', '0110': '6', '0111': '7',\n",
    "        '1000': '8', '1001': '9', '1010': 'A', '1011': 'B',\n",
    "        '1100': 'C', '1101': 'D', '1110': 'E', '1111': 'F'}\n",
    "    \n",
    "    binary_num = number\n",
    "    while len(binary_num) % 4 != 0:\n",
    "        binary_num = '0' + binary_num\n",
    "    hex_result = ''\n",
    "    for i in range(0, len(binary_num), 4):\n",
    "        group = binary_num[i:i+4]  \n",
    "        hex_result += bin_to_hex_map[group]\n",
    "    return hex_result\n",
    "\n",
    "def hex_bin(number):\n",
    "    hex_to_bin_map = {\n",
    "        '0': '0000', '1': '0001', '2': '0010', '3': '0011',\n",
    "        '4': '0100', '5': '0101', '6': '0110', '7': '0111',\n",
    "        '8': '1000', '9': '1001', 'A': '1010', 'B': '1011',\n",
    "        'C': '1100', 'D': '1101', 'E': '1110', 'F': '1111'}\n",
    "    \n",
    "    hex_num = number\n",
    "    bin_result = ''\n",
    "    for i in hex_num:\n",
    "        bin_result += hex_to_bin_map[i]\n",
    "    return bin_result\n",
    "\n",
    "def dec_hex(number):\n",
    "    bin_n = dec_bin(number)\n",
    "    hex_n = bin_hex(bin_n)\n",
    "    return hex_n\n",
    "\n",
    "def hex_dec(number):\n",
    "    bin_n = hex_bin(number)\n",
    "    dec_n = bin_dec(bin_n)\n",
    "    return dec_n"
   ]
  },
  {
   "cell_type": "code",
   "execution_count": 57,
   "metadata": {},
   "outputs": [
    {
     "name": "stdout",
     "output_type": "stream",
     "text": [
      "26\n"
     ]
    }
   ],
   "source": [
    "number = \"1A\"\n",
    "\n",
    "#a = dec_bin(number)\n",
    "#a = bin_dec(number)\n",
    "#a = bin_hex(number)\n",
    "#a = hex_bin(number)\n",
    "#a = dec_hex(number)\n",
    "a = hex_dec(number)\n",
    "print (a)"
   ]
  },
  {
   "cell_type": "markdown",
   "metadata": {},
   "source": [
    "2\\. Write a function that converts a 32 bit word into a single precision floating point (i.e. interprets the various bits as sign, mantissa and exponent)"
   ]
  },
  {
   "cell_type": "code",
   "execution_count": 58,
   "metadata": {},
   "outputs": [],
   "source": [
    "def floating_point(a):\n",
    "    \n",
    "    if len(a) != 32:\n",
    "        return (\"The string must be long 32 bit.\")\n",
    "        \n",
    "    sign = int(a[0])\n",
    "    exp = a[1:9]\n",
    "    mantissa = a[9:]\n",
    "    \n",
    "    print(\"Sign:\", sign)\n",
    "    print(\"Exp:\", exp)\n",
    "    print(\"Mantissa:\", mantissa)\n",
    "    \n",
    "    mantissa_dec = 1 + sum(int(bit)* 2**(-(i+1)) for i, bit in enumerate(mantissa))\n",
    "    dec = (-1)**sign * mantissa_dec * 2**(int(exp, 2) - 127)\n",
    "    \n",
    "    return dec"
   ]
  },
  {
   "cell_type": "code",
   "execution_count": 59,
   "metadata": {},
   "outputs": [
    {
     "name": "stdout",
     "output_type": "stream",
     "text": [
      "Sign: 0\n",
      "Exp: 10000001\n",
      "Mantissa: 11001100111001110100110\n",
      "7.201617240905762\n"
     ]
    }
   ],
   "source": [
    "a = \"01000000111001100111001110100110\"\n",
    "\n",
    "b = floating_point(a)\n",
    "print(b)"
   ]
  },
  {
   "cell_type": "markdown",
   "metadata": {},
   "source": [
    "3\\. Write a program to determine the underflow and overflow limits (within a factor of 2) for python on your computer. \n",
    "\n",
    "**Tips**: define two variables inizialized to 1 and halve/double them enough time to exceed the under/over-flow limits  "
   ]
  },
  {
   "cell_type": "code",
   "execution_count": 48,
   "metadata": {},
   "outputs": [],
   "source": [
    "def limits():\n",
    "    overflow = 1\n",
    "    underflow = 1\n",
    "    \n",
    "    while overflow * 2 != float('inf'):\n",
    "        overflow *= 10  \n",
    "        \n",
    "    while underflow / 2 > 0 :\n",
    "        underflow /= 2\n",
    "\n",
    "    return overflow, underflow"
   ]
  },
  {
   "cell_type": "code",
   "execution_count": 50,
   "metadata": {},
   "outputs": [
    {
     "name": "stdout",
     "output_type": "stream",
     "text": [
      "Overflow limit: 1.00e+308\n",
      "Underflow limit: 1e-323\n"
     ]
    }
   ],
   "source": [
    "overflow_limit, underflow_limit = limits()\n",
    "print(\"Overflow limit:\", f\"{overflow_limit:.2e}\")\n",
    "print(\"Underflow limit:\", underflow_limit)"
   ]
  },
  {
   "cell_type": "markdown",
   "metadata": {},
   "source": [
    "4\\. Write a program to determine the machine precision\n",
    "\n",
    "**Tips**: define a new variable by adding a smaller and smaller value (proceeding similarly to prob. 3) to an original variable and check the point where the two are the same "
   ]
  },
  {
   "cell_type": "code",
   "execution_count": 17,
   "metadata": {},
   "outputs": [
    {
     "name": "stdout",
     "output_type": "stream",
     "text": [
      "Machine precision: 2.220446049250313e-16\n"
     ]
    }
   ],
   "source": [
    "delta = 1.0\n",
    "\n",
    "while 1.0 + delta > 1.0:\n",
    "    precision = delta\n",
    "    delta /= 2\n",
    "    \n",
    "print(\"Machine precision:\", precision)    "
   ]
  },
  {
   "cell_type": "markdown",
   "metadata": {},
   "source": [
    "5\\. Write a function that takes in input three parameters $a$, $b$ and $c$ and prints out the two solutions to the quadratic equation $ax^2+bx+c=0$ using the standard formula:\n",
    "$$\n",
    "x=\\frac{-b\\pm\\sqrt{b^2-4ac}}{2a}\n",
    "$$\n",
    "\n",
    "(a) use the program to compute the solution for $a=0.001$, $b=1000$ and $c=0.001$\n",
    "\n",
    "(b) re-express the standard solution formula by multiplying top and bottom by $-b\\mp\\sqrt{b^2-4ac}$ and again find the solution for $a=0.001$, $b=1000$ and $c=0.001$. How does it compare with what previously obtained? Why?\n",
    "\n",
    "(c) write a function that compute the roots of a quadratic equation accurately in all cases"
   ]
  },
  {
   "cell_type": "code",
   "execution_count": 18,
   "metadata": {},
   "outputs": [],
   "source": [
    "def solve(a, b, c):\n",
    "    x1 = (-b + (b**2 - 4*a*c)**(1/2)) / (2*a)\n",
    "    x2 = (-b - (b**2 - 4*a*c)**(1/2)) / (2*a)\n",
    "    return x1, x2\n",
    "\n",
    "def solve_2(a, b, c):\n",
    "    x1 = 2*c / (-b - (b**2 - 4*a*c)**(1/2))\n",
    "    x2 = 2*c / (-b + (b**2 - 4*a*c)**(1/2))\n",
    "    return x1, x2\n",
    "\n",
    "\n",
    "def solve_accurate(a, b, c):\n",
    "    if b > 0:\n",
    "        x1 = (-b - (b**2 - 4*a*c)**(1/2)) / (2*a)\n",
    "    else:\n",
    "        x1 = (-b + (b**2 - 4*a*c)**(1/2)) / (2*a)\n",
    "\n",
    "    x2 = c / (a * x1)\n",
    "    return x1, x2"
   ]
  },
  {
   "cell_type": "code",
   "execution_count": 60,
   "metadata": {},
   "outputs": [
    {
     "name": "stdout",
     "output_type": "stream",
     "text": [
      "x_1: -0.000000999989425 x_2: -999999.999998999992386\n",
      "x_1: -0.000001000000000 x_2: -1000010.575512505718507\n",
      "x_1: -0.000001000000000 x_2: -999999.999998999992386\n"
     ]
    }
   ],
   "source": [
    "a = 0.001\n",
    "b = 1000\n",
    "c = 0.001\n",
    "\n",
    "x1a, x2a = solve(a, b, c)\n",
    "print (\"x_1:\", f\"{x1a:.15f}\", \"x_2:\", f\"{x2a:.15f}\")\n",
    "\n",
    "x1b, x2b = solve_2(a, b, c)\n",
    "print (\"x_1:\", f\"{x1b:.15f}\", \"x_2:\", f\"{x2b:.15f}\")\n",
    "\n",
    "x1c, x2c = solve_accurate(a, b, c)\n",
    "print (\"x_1:\", f\"{x2c:.15f}\", \"x_2:\", f\"{x1c:.15f}\")"
   ]
  },
  {
   "cell_type": "markdown",
   "metadata": {},
   "source": [
    "6\\. Write a program that implements the function $f(x)=x(x−1)$\n",
    "\n",
    "(a) Calculate the derivative of the function at the point $x = 1$ using the derivative definition:\n",
    "\n",
    "$$\n",
    "\\frac{{\\rm d}f}{{\\rm d}x} = \\lim_{\\delta\\to0} \\frac{f(x+\\delta)-f(x)}{\\delta}\n",
    "$$\n",
    "\n",
    "with $\\delta = 10^{−2}$. Calculate the true value of the same derivative analytically and compare with the answer your program gives. The two will not agree perfectly. Why not?\n",
    "\n",
    "(b) Repeat the calculation for $\\delta = 10^{−4}, 10^{−6}, 10^{−8}, 10^{−10}, 10^{−12}$ and $10^{−14}$. How does the accuracy scales with $\\delta$?"
   ]
  },
  {
   "cell_type": "code",
   "execution_count": 86,
   "metadata": {},
   "outputs": [],
   "source": [
    "def f(x):\n",
    "    return x*(x-1)"
   ]
  },
  {
   "cell_type": "code",
   "execution_count": 87,
   "metadata": {},
   "outputs": [
    {
     "name": "stdout",
     "output_type": "stream",
     "text": [
      "1.0e-02:1.010000000000001  0.0099009901\n",
      "1.0e-04:1.000099999999890  0.0000999900\n",
      "1.0e-06:1.000000999917733  0.0000009999\n",
      "1.0e-08:1.000000003922529  0.0000000039\n",
      "1.0e-10:1.000000082840371  0.0000000828\n",
      "1.0e-12:1.000088900583341  0.0000888927\n",
      "1.0e-14:0.999200722162651  0.0007999172\n"
     ]
    }
   ],
   "source": [
    "v = np.arange(-100, 100, 1)\n",
    "x = 1\n",
    "delta = [10**-2, 10**-4, 10**-6, 10**-8, 10**-10, 10**-12, 10**-14]\n",
    "\n",
    "for d in delta:\n",
    "    derivative = (f(x + d) - f(x)) / d\n",
    "    error = abs(1 - derivative) / derivative\n",
    "    print (f\"{d:.1e}:{derivative:.15f}  {error:.10f}\")"
   ]
  },
  {
   "cell_type": "markdown",
   "metadata": {},
   "source": [
    "7\\. Consider the integral of the semicircle of radius 1:\n",
    "$$\n",
    "I=\\int_{-1}^{1} \\sqrt(1-x^2) {\\rm d}x\n",
    "$$\n",
    "which it's known to be $I=\\frac{\\pi}{2}=1.57079632679...$.\n",
    "Alternatively we can use the Riemann definition of the integral:\n",
    "$$\n",
    "I=\\lim_{N\\to\\infty} \\sum_{k=1}^{N} h y_k \n",
    "$$\n",
    "\n",
    "with $h=2/N$ the width of each of the $N$ slices the domain is divided into and where\n",
    "$y_k$ is the value of the function at the $k-$th slice.\n",
    "\n",
    "(a) Write a programe to compute the integral with $N=100$. How does the result compares to the true value?\n",
    "\n",
    "(b) How much can $N$ be increased if the computation needs to be run in less than a second? What is the gain in running it for 1 minute? \n"
   ]
  },
  {
   "cell_type": "code",
   "execution_count": 4,
   "metadata": {},
   "outputs": [],
   "source": [
    "def f(x):\n",
    "    return np.sqrt(1 - x**2)\n",
    "\n",
    "def integral(N):\n",
    "    h = 2 / N\n",
    "    I = 0\n",
    "    for k in range(1, N + 1):\n",
    "        x_k = -1 + k * h\n",
    "        y_k = f(x_k)\n",
    "        I += h * y_k\n",
    "    return I"
   ]
  },
  {
   "cell_type": "code",
   "execution_count": 9,
   "metadata": {},
   "outputs": [
    {
     "name": "stdout",
     "output_type": "stream",
     "text": [
      "I: 1.5691342555\n",
      "Execution time: 0.0004 seconds\n",
      "N for 1s: 510100\n"
     ]
    }
   ],
   "source": [
    "N = 100\n",
    "I = integral(N)\n",
    "print(\"I:\",f\"{I:.10f}\")\n",
    "\n",
    "execution_time = timeit.timeit(lambda: integral(N), number=1)\n",
    "print(f\"Execution time: {execution_time:.4f} seconds\")\n",
    "\n",
    "while execution_time < 1.0:\n",
    "    N += 10000\n",
    "    execution_time = timeit.timeit(lambda: integral(N), number=1)\n",
    "print(\"N for 1s:\", N)"
   ]
  },
  {
   "cell_type": "code",
   "execution_count": null,
   "metadata": {},
   "outputs": [],
   "source": []
  }
 ],
 "metadata": {
  "kernelspec": {
   "display_name": "Python 3 (ipykernel)",
   "language": "python",
   "name": "python3"
  },
  "language_info": {
   "codemirror_mode": {
    "name": "ipython",
    "version": 3
   },
   "file_extension": ".py",
   "mimetype": "text/x-python",
   "name": "python",
   "nbconvert_exporter": "python",
   "pygments_lexer": "ipython3",
   "version": "3.11.5"
  }
 },
 "nbformat": 4,
 "nbformat_minor": 2
}
