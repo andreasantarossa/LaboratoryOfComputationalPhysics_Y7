{
 "cells": [
  {
   "cell_type": "markdown",
   "metadata": {},
   "source": [
    "0\\. Implement a function (whatever you want) and save it to a file (e.g. `function.py`). Import that file and use that function in this notebook.\n"
   ]
  },
  {
   "cell_type": "code",
   "execution_count": 10,
   "metadata": {},
   "outputs": [],
   "source": [
    "function_code = \"\"\"\n",
    "    \n",
    "def product(a, b):\n",
    "        return a*b\n",
    "\n",
    "\"\"\"\n",
    "\n",
    "outfile = open(\"function.py\",'w')\n",
    "outfile.write(function_code)\n",
    "outfile.close()"
   ]
  },
  {
   "cell_type": "code",
   "execution_count": 11,
   "metadata": {},
   "outputs": [
    {
     "name": "stdout",
     "output_type": "stream",
     "text": [
      "40\n"
     ]
    }
   ],
   "source": [
    "from function import product\n",
    "\n",
    "a = 5\n",
    "b = 8\n",
    "print (product(a, b))"
   ]
  },
  {
   "cell_type": "markdown",
   "metadata": {},
   "source": [
    "1\\. Write the following as a list comprehension"
   ]
  },
  {
   "cell_type": "code",
   "execution_count": 1,
   "metadata": {},
   "outputs": [
    {
     "name": "stdout",
     "output_type": "stream",
     "text": [
      "[(0, 0), (0, 1), (0, 2), (0, 3), (1, 0), (1, 1), (1, 2), (1, 3), (2, 0), (2, 1), (2, 2), (2, 3)]\n",
      "[0, 4, 16]\n"
     ]
    }
   ],
   "source": [
    "# 1\n",
    "ans = []\n",
    "for i in range(3):\n",
    "    for j in range(4):\n",
    "        ans.append((i, j))\n",
    "print (ans)\n",
    "\n",
    "# 2\n",
    "ans = map(lambda x: x*x, filter(lambda x: x%2 == 0, range(5)))\n",
    "print (list(ans))\n",
    "\n"
   ]
  },
  {
   "cell_type": "code",
   "execution_count": 7,
   "metadata": {},
   "outputs": [
    {
     "name": "stdout",
     "output_type": "stream",
     "text": [
      "[(0, 0), (0, 1), (0, 2), (0, 3), (1, 0), (1, 1), (1, 2), (1, 3), (2, 0), (2, 1), (2, 2), (2, 3)]\n",
      "[0, 4, 16]\n"
     ]
    }
   ],
   "source": [
    "# 1\n",
    "ans = []\n",
    "print ([(i,j) for i in range (3) for j in range (4)])\n",
    "\n",
    "# 2\n",
    "print ([x*x for x in range (5) if x%2 == 0])"
   ]
  },
  {
   "cell_type": "markdown",
   "metadata": {},
   "source": [
    "2\\. Convert the following function into a pure function with no global variables or side effects"
   ]
  },
  {
   "cell_type": "code",
   "execution_count": 9,
   "metadata": {},
   "outputs": [
    {
     "name": "stdout",
     "output_type": "stream",
     "text": [
      "[1, 2, 3, 0, 1, 2, 3, 4]\n",
      "[1, 2, 3, 0, 1, 2, 3, 4]\n",
      "[1, 2, 3, 0, 1, 2, 3, 4]\n"
     ]
    }
   ],
   "source": [
    "x = 5\n",
    "def f(alist):\n",
    "    for i in range(x):\n",
    "         alist.append(i)\n",
    "    return alist\n",
    "\n",
    "alist = [1,2,3]\n",
    "ans = f(alist)\n",
    "print (ans)\n",
    "print (alist) # alist has been changed!"
   ]
  },
  {
   "cell_type": "code",
   "execution_count": 11,
   "metadata": {},
   "outputs": [
    {
     "name": "stdout",
     "output_type": "stream",
     "text": [
      "[1, 2, 3, 0, 1, 2, 3, 4]\n",
      "[1, 2, 3]\n"
     ]
    }
   ],
   "source": [
    "def f(alist, x):\n",
    "    new_list = alist[:]\n",
    "    for i in range(x):\n",
    "         new_list.append(i)\n",
    "    return new_list\n",
    "\n",
    "alist = [1,2,3]\n",
    "x = 5\n",
    "ans = f(alist, x)\n",
    "print (ans)\n",
    "print (alist)"
   ]
  },
  {
   "cell_type": "markdown",
   "metadata": {},
   "source": [
    "3\\. Write a `decorator` hello that makes every wrapped function print “Hello!”, i.e. something like:\n",
    "\n",
    "```python\n",
    "@hello\n",
    "def square(x):\n",
    "    return x*x\n",
    "```\n"
   ]
  },
  {
   "cell_type": "code",
   "execution_count": 2,
   "metadata": {},
   "outputs": [
    {
     "name": "stdout",
     "output_type": "stream",
     "text": [
      "Hello!\n",
      "36\n"
     ]
    }
   ],
   "source": [
    "def hello(func):\n",
    "    def wrapper(*args):\n",
    "        print (\"Hello!\")\n",
    "        print(func(x))\n",
    "    return wrapper\n",
    "\n",
    "\n",
    "@hello\n",
    "def square(x):\n",
    "    return x*x\n",
    "\n",
    "x = 6\n",
    "square(x) \n"
   ]
  },
  {
   "cell_type": "markdown",
   "metadata": {},
   "source": [
    "4\\. Write the factorial function so that it a) does and b) does not use recursion."
   ]
  },
  {
   "cell_type": "code",
   "execution_count": 3,
   "metadata": {},
   "outputs": [
    {
     "name": "stdout",
     "output_type": "stream",
     "text": [
      "24\n"
     ]
    }
   ],
   "source": [
    "# Using recursion\n",
    "\n",
    "def factorial (n):\n",
    "    if n == 1 or n ==0:\n",
    "        return 1\n",
    "    else: return n * factorial(n-1)\n",
    "\n",
    "  \n",
    "n = 4\n",
    "fact_n = factorial(n)\n",
    "print (fact_n)"
   ]
  },
  {
   "cell_type": "code",
   "execution_count": 40,
   "metadata": {},
   "outputs": [
    {
     "name": "stdout",
     "output_type": "stream",
     "text": [
      "120\n"
     ]
    }
   ],
   "source": [
    "# Not using recursion\n",
    "\n",
    "def factorial (n):\n",
    "    prod = 1\n",
    "    for i in range(1, n+1):\n",
    "        prod = i * prod\n",
    "    return prod\n",
    "\n",
    "  \n",
    "n = 5\n",
    "fact_n = factorial(n)\n",
    "print (fact_n)"
   ]
  },
  {
   "cell_type": "markdown",
   "metadata": {},
   "source": [
    "5\\. Use HOFs (zip in particular) to compute the weight of a circle, a disk and a sphere, assuming different radii and different densities:\n",
    "\n",
    "```python\n",
    "densities = {\"Al\":[0.5,1,2],\"Fe\":[3,4,5],\"Pb\": [15,20,30]}\n",
    "radii = [1,2,3]\n",
    "```\n",
    "\n",
    "where the entries of the dictionary's values are the linear, superficial and volumetric densities of the materials respectively.\n",
    "\n",
    "In particular define a list of three lambda functions using a comprehension that computes the circumference, the area and the volume for a given radius.\n"
   ]
  },
  {
   "cell_type": "code",
   "execution_count": 30,
   "metadata": {},
   "outputs": [
    {
     "name": "stdout",
     "output_type": "stream",
     "text": [
      "Metal: Al \t Radius: 1\n",
      "Circle: 3.141592653589793\n",
      "Disk: 12.566370614359172\n",
      "Sphere: 37.69911184307752\n",
      "Metal: Fe \t Radius: 2\n",
      "Circle: 9.42477796076938\n",
      "Disk: 50.26548245743669\n",
      "Sphere: 141.3716694115407\n",
      "Metal: Pb \t Radius: 3\n",
      "Circle: 62.831853071795855\n",
      "Disk: 670.2064327658225\n",
      "Sphere: 3392.9200658769764\n"
     ]
    }
   ],
   "source": [
    "import math\n",
    "\n",
    "densities = {\"Al\":[0.5,1,2],\"Fe\":[3,4,5],\"Pb\": [15,20,30]}\n",
    "radii = [1,2,3]\n",
    "\n",
    "label = [\"Circle:\", \"Disk:\", \"Sphere:\"]\n",
    "\n",
    "geometry = [lambda r: 2 * r * math.pi, lambda r: r**2 * math.pi, lambda r: 4/3 * r**3 * math.pi]\n",
    "cir_dis_sph = [[f(x) for x in radii] for f  in geometry]\n",
    "\n",
    "#print (\"Geometry:\", cir_dis_sph)\n",
    "\n",
    "\n",
    "for (metal, dens), vol, r in zip(densities.items(), cir_dis_sph, radii):\n",
    "    print (\"Metal:\", metal, \"\\t Radius:\", r)\n",
    "    for d, cds, l in zip (dens, vol, label):\n",
    "        print (l, d*cds)\n",
    "    \n",
    "    "
   ]
  },
  {
   "cell_type": "markdown",
   "metadata": {},
   "source": [
    "6\\. Edit the class defintion to add an instance attribute of is_hungry = True to the Dog class. Then add a method called eat() which changes the value of is_hungry to False when called. Figure out the best way to feed each dog and then output “My dogs are hungry.” if all are hungry or “My dogs are not hungry.” if all are not hungry. The final output should look like this:\n",
    "\n",
    "`I have 3 dogs. \n",
    "Tom is 6. \n",
    "Fletcher is 7. \n",
    "Larry is 9. \n",
    "And they're all mammals, of course. \n",
    "My dogs are not hungry.\n",
    "`\n",
    "\n",
    "```python\n",
    "# Parent class\n",
    "class Dog:\n",
    "\n",
    "    # Class attribute\n",
    "    species = 'mammal'\n",
    "\n",
    "    # Initializer / Instance attributes\n",
    "    def __init__(self, name, age):\n",
    "        self.name = name\n",
    "        self.age = age\n",
    "\n",
    "    # instance method\n",
    "    def description(self):\n",
    "        return \"{} is {} years old\".format(self.name, self.age)\n",
    "\n",
    "    # instance method\n",
    "    def speak(self, sound):\n",
    "        return \"{} says {}\".format(self.name, sound)\n",
    "\n",
    "# Child class (inherits from Dog class)\n",
    "class RussellTerrier(Dog):\n",
    "    def run(self, speed):\n",
    "        return \"{} runs {}\".format(self.name, speed)\n",
    "\n",
    "# Child class (inherits from Dog class)\n",
    "class Bulldog(Dog):\n",
    "    def run(self, speed):\n",
    "        return \"{} runs {}\".format(self.name, speed)\n",
    "```"
   ]
  },
  {
   "cell_type": "code",
   "execution_count": 67,
   "metadata": {},
   "outputs": [],
   "source": [
    "# Parent class\n",
    "class Dog:\n",
    "\n",
    "    # Class attribute\n",
    "    species = 'mammals'\n",
    "    is_hungry = True\n",
    "\n",
    "    # Initializer / Instance attributes\n",
    "    def __init__(self, name, age):\n",
    "        self.name = name\n",
    "        self.age = age\n",
    "\n",
    "    # instance method\n",
    "    def description(self):\n",
    "        return \"{} is {} years old\".format(self.name, self.age)\n",
    "\n",
    "    # instance method\n",
    "    def speak(self, sound):\n",
    "        return \"{} says {}\".format(self.name, sound)\n",
    "    \n",
    "    # instance method\n",
    "    def eat(self):\n",
    "        self.is_hungry = not self.is_hungry\n",
    "\n",
    "# Child class (inherits from Dog class)\n",
    "class RussellTerrier(Dog):\n",
    "    def run(self, speed):\n",
    "        return \"{} runs {}\".format(self.name, speed)\n",
    "\n",
    "# Child class (inherits from Dog class)\n",
    "class Bulldog(Dog):\n",
    "    def run(self, speed):\n",
    "        return \"{} runs {}\".format(self.name, speed)"
   ]
  },
  {
   "cell_type": "code",
   "execution_count": 73,
   "metadata": {},
   "outputs": [
    {
     "name": "stdout",
     "output_type": "stream",
     "text": [
      "I have 4 dogs\n",
      "Jenny is 5 years old\n",
      "Perry is 6 years old\n",
      "Jack is 2 years old\n",
      "Nala is 1 years old\n",
      "They are all mammals\n",
      "My dogs are not hungry.\n"
     ]
    }
   ],
   "source": [
    "#Jenny = Dog(\"Jenny\", 5)\n",
    "#Perry = Bulldog(\"Perry\", 12)\n",
    "#Jack = RussellTerrier(\"Jack\", 2)\n",
    "\n",
    "\n",
    "\n",
    "dogs = [Dog(\"Jenny\", 5), Bulldog(\"Perry\", 6), RussellTerrier(\"Jack\", 2), Dog(\"Nala\", 1)]\n",
    "\n",
    "# How has already eaten?\n",
    "dogs[0].eat()\n",
    "\n",
    "# How many dogs?\n",
    "print (\"I have\", len(dogs), \"dogs\")\n",
    "\n",
    "for i in dogs:\n",
    "    print (i.description())\n",
    "print (\"They are all\", i.species)\n",
    "\n",
    "# Check who is hungry\n",
    "hungry = True\n",
    "for i in dogs:\n",
    "    hungry = hungry and i.is_hungry \n",
    "    \n",
    "if hungry == True:\n",
    "    print(\"My dogs are hungry.\")\n",
    "else: print(\"My dogs are not hungry.\")\n"
   ]
  },
  {
   "cell_type": "code",
   "execution_count": null,
   "metadata": {},
   "outputs": [],
   "source": []
  }
 ],
 "metadata": {
  "kernelspec": {
   "display_name": "Python 3 (ipykernel)",
   "language": "python",
   "name": "python3"
  },
  "language_info": {
   "codemirror_mode": {
    "name": "ipython",
    "version": 3
   },
   "file_extension": ".py",
   "mimetype": "text/x-python",
   "name": "python",
   "nbconvert_exporter": "python",
   "pygments_lexer": "ipython3",
   "version": "3.11.5"
  }
 },
 "nbformat": 4,
 "nbformat_minor": 2
}
