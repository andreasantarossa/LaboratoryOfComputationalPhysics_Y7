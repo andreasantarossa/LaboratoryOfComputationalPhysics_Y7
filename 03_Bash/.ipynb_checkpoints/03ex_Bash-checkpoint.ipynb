{
 "cells": [
  {
   "cell_type": "markdown",
   "id": "b5746bd0",
   "metadata": {},
   "source": [
    "The following exercises are meant to be solved by gathering the bash commands incrimentally in two scripts, one for ex 1.* the other for ex 2.* "
   ]
  },
  {
   "cell_type": "markdown",
   "id": "4e60de78",
   "metadata": {},
   "source": [
    "### Ex 1"
   ]
  },
  {
   "cell_type": "markdown",
   "id": "6759df36",
   "metadata": {},
   "source": [
    "1\\.a Make a new directory called `students` in your home. Download a csv file with the list of students of this lab from [here](https://www.dropbox.com/s/867rtx3az6e9gm8/LCP_22-23_students.csv) (use the `wget` command) and copy that to `students`. First check whether the file is already there"
   ]
  },
  {
   "cell_type": "code",
   "execution_count": null,
   "id": "8b81a4ce",
   "metadata": {},
   "outputs": [],
   "source": [
    "CSV_URL=\"https://www.dropbox.com/s/867rtx3az6e9gm8/LCP_22-23_students.csv\"\n",
    "CSV_FILE=\"LCP_22-23_students.csv\"\n",
    "\n",
    "# Create the directory if it doesn't exist\n",
    "mkdir -p \"$HOME/students\"\n",
    "cd \"$HOME/students\"\n",
    "\n",
    "# Check if the file exists, and if not, download it\n",
    "if [ ! -f \"$CSV_FILE\" ]; then\n",
    "    wget -O \"$CSV_FILE\" \"$CSV_URL\"\n",
    "else\n",
    "    echo \"File already exists in $HOME/students.\"\n",
    "fi"
   ]
  },
  {
   "cell_type": "markdown",
   "id": "798c0c9d",
   "metadata": {},
   "source": [
    "1\\.b Make two new files, one containing the students belonging to PoD, the other to Physics."
   ]
  },
  {
   "cell_type": "code",
   "execution_count": null,
   "id": "1fc689bc",
   "metadata": {},
   "outputs": [],
   "source": [
    "grep \"PoD\" LCP_22-23_students.csv > PoD.csv\n",
    "grep \"Physics\" LCP_22-23_students.csv > Physics.csv"
   ]
  },
  {
   "cell_type": "markdown",
   "id": "8a43d622",
   "metadata": {},
   "source": [
    "1\\.c For each letter of the alphabet, count the number of students whose surname starts with that letter. "
   ]
  },
  {
   "cell_type": "code",
   "execution_count": null,
   "id": "2c100f46",
   "metadata": {},
   "outputs": [],
   "source": [
    "for letter in {A..Z};\n",
    "    do count=$(tail -n +2 LCP_22-23_students.csv | grep -i \"^$letter\" | wc -l); \n",
    "    echo \"$letter: $count\"; \n",
    "done"
   ]
  },
  {
   "cell_type": "markdown",
   "id": "4ba6bc90",
   "metadata": {},
   "source": [
    "1\\.d Find out which is the letter with most counts."
   ]
  },
  {
   "cell_type": "code",
   "execution_count": null,
   "id": "5cd28bfc",
   "metadata": {},
   "outputs": [],
   "source": [
    "letter_most=\"\"\n",
    "max_count=0\n",
    "for letter in {a..z};\n",
    "    do count=$(grep -oi \"$letter\" LCP_22-23_students.csv | wc -l);\n",
    "    if [ $count -gt $max_count ]; then \n",
    "        letter_most=$letter;\n",
    "        max_count=$count\n",
    "    fi\n",
    "done\n",
    "echo \"The letter '$letter_most' appears the most times: $max_count\""
   ]
  },
  {
   "cell_type": "markdown",
   "id": "086a043c",
   "metadata": {},
   "source": [
    "1\\.e Assume an obvious numbering of the students in the file (first line is 1, second line is 2, etc.), group students \"modulo 18\", i.e. 1,19,37,.. 2,20,38,.. etc. and put each group in a separate file  "
   ]
  },
  {
   "cell_type": "code",
   "execution_count": null,
   "id": "66eee91c",
   "metadata": {},
   "outputs": [],
   "source": [
    "mkdir -p groups\n",
    "\n",
    "n_row=0\n",
    "\n",
    "tail -n +2 LCP_22-23_students.csv | while IFS= read -r row; do\n",
    "    n_group=$(( (n_row % 18) + 1 ))\n",
    "    echo \"$row\" >> ./groups/group_$((n_group)).csv\n",
    "    ((n_row++))\n",
    "done"
   ]
  },
  {
   "cell_type": "markdown",
   "id": "1d730d21",
   "metadata": {},
   "source": [
    "### Ex 2"
   ]
  },
  {
   "cell_type": "markdown",
   "id": "4b87ecb7",
   "metadata": {},
   "source": [
    "2.a Make a copy of the file `data.csv` removing the metadata and the commas between numbers; call it `data.txt`"
   ]
  },
  {
   "cell_type": "code",
   "execution_count": null,
   "id": "e8ece290",
   "metadata": {},
   "outputs": [],
   "source": [
    "grep -v \"^#\" data.csv | sed -e \"s/,//g\" > data.txt"
   ]
  },
  {
   "cell_type": "markdown",
   "id": "344048c8",
   "metadata": {},
   "source": [
    "2\\.b How many even numbers are there?"
   ]
  },
  {
   "cell_type": "code",
   "execution_count": null,
   "id": "dcb2171e",
   "metadata": {},
   "outputs": [],
   "source": [
    "count_even=0\n",
    "\n",
    "while read -r row; do\n",
    "    for n in $row; do\n",
    "        if (( n % 2 == 0 )); then\n",
    "            ((count_even++))\n",
    "        fi\n",
    "    done\n",
    "done<data.txt \n",
    "\n",
    "echo \"Even numbers: $count_even\""
   ]
  },
  {
   "cell_type": "markdown",
   "id": "2a27138d",
   "metadata": {},
   "source": [
    "2\\.c Distinguish the entries on the basis of `sqrt(X^2 + Y^2 + Z^2)` is greater or smaller than `100*sqrt(3)/2`. Count the entries of each of the two groups "
   ]
  },
  {
   "cell_type": "code",
   "execution_count": null,
   "id": "307f1db5",
   "metadata": {},
   "outputs": [],
   "source": [
    "threshold=$(echo \"scale=6; 100 * sqrt(3) / 2\" | bc)\n",
    "\n",
    "count_greater=0\n",
    "count_smaller=0\n",
    "\n",
    "while read -r row; do\n",
    "    set -- $row \n",
    "    X=$1\n",
    "    Y=$2\n",
    "    Z=$3\n",
    "    \n",
    "    d=$(echo \"scale=6; sqrt($X^2 + $Y^2 + $Z^2)\" | bc )\n",
    "    \n",
    "    if (( $(echo \"$d < $threshold\" | bc -l) )); then\n",
    "        ((count_smaller++ ))\n",
    "    else \n",
    "        (( count_greater++ ))\n",
    "    fi\n",
    "done<data.txt \n",
    "\n",
    "echo \"Numbers greater than treshold: $count_greater\"\n",
    "echo \"Numbers smaller than treshold: $count_smaller\""
   ]
  },
  {
   "cell_type": "markdown",
   "id": "e937ef4e",
   "metadata": {},
   "source": [
    "2\\.d Make `n` copies of data.txt (with `n` an input parameter of the script), where the i-th copy has all the numbers divided by i (with `1<=i<=n`)."
   ]
  },
  {
   "cell_type": "code",
   "execution_count": null,
   "id": "e7fcafc4",
   "metadata": {},
   "outputs": [],
   "source": [
    "n=$1\n",
    "\n",
    "mkdir -p copies\n",
    "\n",
    "for (( i=1; i<=$n; i++ ));do\n",
    "\n",
    "    output_file=\"./copies/copy_$i.txt\"\n",
    "\n",
    "    while read -r row; do\n",
    "        for x in $row; do\n",
    "            result=$(echo \"scale=6; $x / $i\" | bc)\n",
    "            echo -n \"$result \" >> \"$output_file\"\n",
    "        done\n",
    "        echo \"\" >> \"$output_file\"\n",
    "    done<data.txt \n",
    "done"
   ]
  }
 ],
 "metadata": {
  "kernelspec": {
   "display_name": "Python 3 (ipykernel)",
   "language": "python",
   "name": "python3"
  },
  "language_info": {
   "codemirror_mode": {
    "name": "ipython",
    "version": 3
   },
   "file_extension": ".py",
   "mimetype": "text/x-python",
   "name": "python",
   "nbconvert_exporter": "python",
   "pygments_lexer": "ipython3",
   "version": "3.11.5"
  }
 },
 "nbformat": 4,
 "nbformat_minor": 5
}
